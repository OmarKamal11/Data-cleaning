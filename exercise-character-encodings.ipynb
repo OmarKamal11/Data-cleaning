{
 "cells": [
  {
   "cell_type": "markdown",
   "id": "7ac68851",
   "metadata": {
    "papermill": {
     "duration": 0.005764,
     "end_time": "2022-09-14T22:14:34.938472",
     "exception": false,
     "start_time": "2022-09-14T22:14:34.932708",
     "status": "completed"
    },
    "tags": []
   },
   "source": [
    "**This notebook is an exercise in the [Data Cleaning](https://www.kaggle.com/learn/data-cleaning) course.  You can reference the tutorial at [this link](https://www.kaggle.com/alexisbcook/character-encodings).**\n",
    "\n",
    "---\n"
   ]
  },
  {
   "cell_type": "markdown",
   "id": "38fe41c2",
   "metadata": {
    "papermill": {
     "duration": 0.00427,
     "end_time": "2022-09-14T22:14:34.947593",
     "exception": false,
     "start_time": "2022-09-14T22:14:34.943323",
     "status": "completed"
    },
    "tags": []
   },
   "source": [
    "In this exercise, you'll apply what you learned in the **Character encodings** tutorial.\n",
    "\n",
    "# Setup\n",
    "\n",
    "The questions below will give you feedback on your work. Run the following cell to set up the feedback system."
   ]
  },
  {
   "cell_type": "code",
   "execution_count": 1,
   "id": "20118af4",
   "metadata": {
    "execution": {
     "iopub.execute_input": "2022-09-14T22:14:34.959033Z",
     "iopub.status.busy": "2022-09-14T22:14:34.958575Z",
     "iopub.status.idle": "2022-09-14T22:14:35.055788Z",
     "shell.execute_reply": "2022-09-14T22:14:35.054025Z"
    },
    "papermill": {
     "duration": 0.106798,
     "end_time": "2022-09-14T22:14:35.059012",
     "exception": false,
     "start_time": "2022-09-14T22:14:34.952214",
     "status": "completed"
    },
    "tags": []
   },
   "outputs": [
    {
     "name": "stdout",
     "output_type": "stream",
     "text": [
      "Setup Complete\n"
     ]
    }
   ],
   "source": [
    "from learntools.core import binder\n",
    "binder.bind(globals())\n",
    "from learntools.data_cleaning.ex4 import *\n",
    "print(\"Setup Complete\")"
   ]
  },
  {
   "cell_type": "markdown",
   "id": "cf83000d",
   "metadata": {
    "papermill": {
     "duration": 0.004566,
     "end_time": "2022-09-14T22:14:35.068507",
     "exception": false,
     "start_time": "2022-09-14T22:14:35.063941",
     "status": "completed"
    },
    "tags": []
   },
   "source": [
    "# Get our environment set up\n",
    "\n",
    "The first thing we'll need to do is load in the libraries we'll be using."
   ]
  },
  {
   "cell_type": "code",
   "execution_count": 2,
   "id": "95758f7c",
   "metadata": {
    "execution": {
     "iopub.execute_input": "2022-09-14T22:14:35.079928Z",
     "iopub.status.busy": "2022-09-14T22:14:35.079257Z",
     "iopub.status.idle": "2022-09-14T22:14:35.083872Z",
     "shell.execute_reply": "2022-09-14T22:14:35.082986Z"
    },
    "papermill": {
     "duration": 0.012918,
     "end_time": "2022-09-14T22:14:35.086126",
     "exception": false,
     "start_time": "2022-09-14T22:14:35.073208",
     "status": "completed"
    },
    "tags": []
   },
   "outputs": [],
   "source": [
    "# modules we'll use\n",
    "import pandas as pd\n",
    "import numpy as np\n",
    "\n",
    "# helpful character encoding module\n",
    "import chardet\n",
    "\n",
    "# set seed for reproducibility\n",
    "np.random.seed(0)"
   ]
  },
  {
   "cell_type": "markdown",
   "id": "70b5b4d6",
   "metadata": {
    "papermill": {
     "duration": 0.004327,
     "end_time": "2022-09-14T22:14:35.095139",
     "exception": false,
     "start_time": "2022-09-14T22:14:35.090812",
     "status": "completed"
    },
    "tags": []
   },
   "source": [
    "# 1) What are encodings?\n",
    "\n",
    "You're working with a dataset composed of bytes.  Run the code cell below to print a sample entry."
   ]
  },
  {
   "cell_type": "code",
   "execution_count": 3,
   "id": "42fa918b",
   "metadata": {
    "execution": {
     "iopub.execute_input": "2022-09-14T22:14:35.106653Z",
     "iopub.status.busy": "2022-09-14T22:14:35.106228Z",
     "iopub.status.idle": "2022-09-14T22:14:35.112147Z",
     "shell.execute_reply": "2022-09-14T22:14:35.110779Z"
    },
    "papermill": {
     "duration": 0.014797,
     "end_time": "2022-09-14T22:14:35.114671",
     "exception": false,
     "start_time": "2022-09-14T22:14:35.099874",
     "status": "completed"
    },
    "tags": []
   },
   "outputs": [
    {
     "name": "stdout",
     "output_type": "stream",
     "text": [
      "b'\\xa7A\\xa6n'\n",
      "data type: <class 'bytes'>\n"
     ]
    }
   ],
   "source": [
    "sample_entry = b'\\xa7A\\xa6n'\n",
    "print(sample_entry)\n",
    "print('data type:', type(sample_entry))"
   ]
  },
  {
   "cell_type": "markdown",
   "id": "7f0dd5a0",
   "metadata": {
    "papermill": {
     "duration": 0.004488,
     "end_time": "2022-09-14T22:14:35.124025",
     "exception": false,
     "start_time": "2022-09-14T22:14:35.119537",
     "status": "completed"
    },
    "tags": []
   },
   "source": [
    "You notice that it doesn't use the standard UTF-8 encoding. \n",
    "\n",
    "Use the next code cell to create a variable `new_entry` that changes the encoding from `\"big5-tw\"` to `\"utf-8\"`.  `new_entry` should have the bytes datatype."
   ]
  },
  {
   "cell_type": "code",
   "execution_count": 4,
   "id": "719f7214",
   "metadata": {
    "execution": {
     "iopub.execute_input": "2022-09-14T22:14:35.135309Z",
     "iopub.status.busy": "2022-09-14T22:14:35.134812Z",
     "iopub.status.idle": "2022-09-14T22:14:35.147326Z",
     "shell.execute_reply": "2022-09-14T22:14:35.146407Z"
    },
    "papermill": {
     "duration": 0.020656,
     "end_time": "2022-09-14T22:14:35.149412",
     "exception": false,
     "start_time": "2022-09-14T22:14:35.128756",
     "status": "completed"
    },
    "tags": []
   },
   "outputs": [
    {
     "data": {
      "application/javascript": [
       "parent.postMessage({\"jupyterEvent\": \"custom.exercise_interaction\", \"data\": {\"outcomeType\": 1, \"valueTowardsCompletion\": 0.3333333333333333, \"interactionType\": 1, \"questionType\": 1, \"questionId\": \"1_EncodingsIntro\", \"learnToolsVersion\": \"0.3.4\", \"failureMessage\": \"\", \"exceptionClass\": \"\", \"trace\": \"\"}}, \"*\")"
      ],
      "text/plain": [
       "<IPython.core.display.Javascript object>"
      ]
     },
     "metadata": {},
     "output_type": "display_data"
    },
    {
     "data": {
      "text/markdown": [
       "<span style=\"color:#33cc33\">Correct</span>"
      ],
      "text/plain": [
       "Correct"
      ]
     },
     "metadata": {},
     "output_type": "display_data"
    }
   ],
   "source": [
    "before = sample_entry.decode(\"big5-tw\")\n",
    "new_entry = before.encode(\"UTF-8\",errors=\"replace\")\n",
    "\n",
    "# Check your answer\n",
    "q1.check()"
   ]
  },
  {
   "cell_type": "code",
   "execution_count": 5,
   "id": "303f12d0",
   "metadata": {
    "execution": {
     "iopub.execute_input": "2022-09-14T22:14:35.161991Z",
     "iopub.status.busy": "2022-09-14T22:14:35.160800Z",
     "iopub.status.idle": "2022-09-14T22:14:35.175524Z",
     "shell.execute_reply": "2022-09-14T22:14:35.174224Z"
    },
    "papermill": {
     "duration": 0.023386,
     "end_time": "2022-09-14T22:14:35.177886",
     "exception": false,
     "start_time": "2022-09-14T22:14:35.154500",
     "status": "completed"
    },
    "tags": []
   },
   "outputs": [
    {
     "data": {
      "application/javascript": [
       "parent.postMessage({\"jupyterEvent\": \"custom.exercise_interaction\", \"data\": {\"interactionType\": 2, \"questionType\": 1, \"questionId\": \"1_EncodingsIntro\", \"learnToolsVersion\": \"0.3.4\", \"valueTowardsCompletion\": 0.0, \"failureMessage\": \"\", \"exceptionClass\": \"\", \"trace\": \"\", \"outcomeType\": 4}}, \"*\")"
      ],
      "text/plain": [
       "<IPython.core.display.Javascript object>"
      ]
     },
     "metadata": {},
     "output_type": "display_data"
    },
    {
     "data": {
      "text/markdown": [
       "<span style=\"color:#3366cc\">Hint:</span> Try using `.decode()` to get the string, then `.encode()` to get the bytes representation, encoded in UTF-8."
      ],
      "text/plain": [
       "Hint: Try using `.decode()` to get the string, then `.encode()` to get the bytes representation, encoded in UTF-8."
      ]
     },
     "metadata": {},
     "output_type": "display_data"
    },
    {
     "data": {
      "application/javascript": [
       "parent.postMessage({\"jupyterEvent\": \"custom.exercise_interaction\", \"data\": {\"interactionType\": 3, \"questionType\": 1, \"questionId\": \"1_EncodingsIntro\", \"learnToolsVersion\": \"0.3.4\", \"valueTowardsCompletion\": 0.0, \"failureMessage\": \"\", \"exceptionClass\": \"\", \"trace\": \"\", \"outcomeType\": 4}}, \"*\")"
      ],
      "text/plain": [
       "<IPython.core.display.Javascript object>"
      ]
     },
     "metadata": {},
     "output_type": "display_data"
    },
    {
     "data": {
      "text/markdown": [
       "<span style=\"color:#33cc99\">Solution:</span> \n",
       "```python\n",
       "before = sample_entry.decode(\"big5-tw\")\n",
       "new_entry = before.encode()\n",
       "\n",
       "```"
      ],
      "text/plain": [
       "Solution: \n",
       "```python\n",
       "before = sample_entry.decode(\"big5-tw\")\n",
       "new_entry = before.encode()\n",
       "\n",
       "```"
      ]
     },
     "metadata": {},
     "output_type": "display_data"
    }
   ],
   "source": [
    "# Lines below will give you a hint or solution code\n",
    "q1.hint()\n",
    "q1.solution()"
   ]
  },
  {
   "cell_type": "markdown",
   "id": "64ee8f4a",
   "metadata": {
    "papermill": {
     "duration": 0.005008,
     "end_time": "2022-09-14T22:14:35.188537",
     "exception": false,
     "start_time": "2022-09-14T22:14:35.183529",
     "status": "completed"
    },
    "tags": []
   },
   "source": [
    "# 2) Reading in files with encoding problems\n",
    "\n",
    "Use the code cell below to read in this file at path `\"../input/fatal-police-shootings-in-the-us/PoliceKillingsUS.csv\"`.  \n",
    "\n",
    "Figure out what the correct encoding should be and read in the file to a DataFrame `police_killings`."
   ]
  },
  {
   "cell_type": "code",
   "execution_count": 6,
   "id": "cb51dc4d",
   "metadata": {
    "execution": {
     "iopub.execute_input": "2022-09-14T22:14:35.201500Z",
     "iopub.status.busy": "2022-09-14T22:14:35.200720Z",
     "iopub.status.idle": "2022-09-14T22:14:35.229815Z",
     "shell.execute_reply": "2022-09-14T22:14:35.228606Z"
    },
    "papermill": {
     "duration": 0.038547,
     "end_time": "2022-09-14T22:14:35.232352",
     "exception": false,
     "start_time": "2022-09-14T22:14:35.193805",
     "status": "completed"
    },
    "tags": []
   },
   "outputs": [
    {
     "data": {
      "application/javascript": [
       "parent.postMessage({\"jupyterEvent\": \"custom.exercise_interaction\", \"data\": {\"outcomeType\": 1, \"valueTowardsCompletion\": 0.3333333333333333, \"interactionType\": 1, \"questionType\": 1, \"questionId\": \"2_ReadIn\", \"learnToolsVersion\": \"0.3.4\", \"failureMessage\": \"\", \"exceptionClass\": \"\", \"trace\": \"\"}}, \"*\")"
      ],
      "text/plain": [
       "<IPython.core.display.Javascript object>"
      ]
     },
     "metadata": {},
     "output_type": "display_data"
    },
    {
     "data": {
      "text/markdown": [
       "<span style=\"color:#33cc33\">Correct</span>"
      ],
      "text/plain": [
       "Correct"
      ]
     },
     "metadata": {},
     "output_type": "display_data"
    }
   ],
   "source": [
    "# TODO: Load in the DataFrame correctly.\n",
    "police_killings = pd.read_csv(\"../input/fatal-police-shootings-in-the-us/PoliceKillingsUS.csv\", encoding='Windows-1252')\n",
    "\n",
    "# Check your answer\n",
    "q2.check()"
   ]
  },
  {
   "cell_type": "markdown",
   "id": "9db5e48b",
   "metadata": {
    "papermill": {
     "duration": 0.005376,
     "end_time": "2022-09-14T22:14:35.243452",
     "exception": false,
     "start_time": "2022-09-14T22:14:35.238076",
     "status": "completed"
    },
    "tags": []
   },
   "source": [
    "Feel free to use any additional code cells for supplemental work.  To get credit for finishing this question, you'll need to run `q2.check()` and get a result of **Correct**."
   ]
  },
  {
   "cell_type": "code",
   "execution_count": 7,
   "id": "613fb51f",
   "metadata": {
    "execution": {
     "iopub.execute_input": "2022-09-14T22:14:35.256584Z",
     "iopub.status.busy": "2022-09-14T22:14:35.256169Z",
     "iopub.status.idle": "2022-09-14T22:14:35.261473Z",
     "shell.execute_reply": "2022-09-14T22:14:35.260246Z"
    },
    "papermill": {
     "duration": 0.014667,
     "end_time": "2022-09-14T22:14:35.263781",
     "exception": false,
     "start_time": "2022-09-14T22:14:35.249114",
     "status": "completed"
    },
    "tags": []
   },
   "outputs": [],
   "source": [
    "# (Optional) Use this code cell for any additional work."
   ]
  },
  {
   "cell_type": "code",
   "execution_count": 8,
   "id": "4f9df1ab",
   "metadata": {
    "execution": {
     "iopub.execute_input": "2022-09-14T22:14:35.277582Z",
     "iopub.status.busy": "2022-09-14T22:14:35.276727Z",
     "iopub.status.idle": "2022-09-14T22:14:35.281713Z",
     "shell.execute_reply": "2022-09-14T22:14:35.280721Z"
    },
    "papermill": {
     "duration": 0.014698,
     "end_time": "2022-09-14T22:14:35.284246",
     "exception": false,
     "start_time": "2022-09-14T22:14:35.269548",
     "status": "completed"
    },
    "tags": []
   },
   "outputs": [],
   "source": [
    "# Lines below will give you a hint or solution code\n",
    "#q2.hint()\n",
    "#q2.solution()"
   ]
  },
  {
   "cell_type": "markdown",
   "id": "6a3bda9a",
   "metadata": {
    "papermill": {
     "duration": 0.005696,
     "end_time": "2022-09-14T22:14:35.295761",
     "exception": false,
     "start_time": "2022-09-14T22:14:35.290065",
     "status": "completed"
    },
    "tags": []
   },
   "source": [
    "# 3) Saving your files with UTF-8 encoding\n",
    "\n",
    "Save a version of the police killings dataset to CSV with UTF-8 encoding.  Your answer will be marked correct after saving this file.  \n",
    "\n",
    "Note: When using the `to_csv()` method, supply only the name of the file (e.g., `\"my_file.csv\"`).  This saves the file at the filepath `\"/kaggle/working/my_file.csv\"`."
   ]
  },
  {
   "cell_type": "code",
   "execution_count": 9,
   "id": "8620e45f",
   "metadata": {
    "execution": {
     "iopub.execute_input": "2022-09-14T22:14:35.310540Z",
     "iopub.status.busy": "2022-09-14T22:14:35.309685Z",
     "iopub.status.idle": "2022-09-14T22:14:35.319002Z",
     "shell.execute_reply": "2022-09-14T22:14:35.318107Z"
    },
    "papermill": {
     "duration": 0.019883,
     "end_time": "2022-09-14T22:14:35.321440",
     "exception": false,
     "start_time": "2022-09-14T22:14:35.301557",
     "status": "completed"
    },
    "tags": []
   },
   "outputs": [
    {
     "data": {
      "application/javascript": [
       "parent.postMessage({\"jupyterEvent\": \"custom.exercise_interaction\", \"data\": {\"outcomeType\": 2, \"failureMessage\": \"Please save a CSV file and run this code cell again to get credit!\", \"interactionType\": 1, \"questionType\": 2, \"questionId\": \"3_SaveCSV\", \"learnToolsVersion\": \"0.3.4\", \"valueTowardsCompletion\": 0.0, \"exceptionClass\": \"\", \"trace\": \"\"}}, \"*\")"
      ],
      "text/plain": [
       "<IPython.core.display.Javascript object>"
      ]
     },
     "metadata": {},
     "output_type": "display_data"
    },
    {
     "data": {
      "text/markdown": [
       "<span style=\"color:#cc3333\">Incorrect:</span> Please save a CSV file and run this code cell again to get credit!"
      ],
      "text/plain": [
       "Incorrect: Please save a CSV file and run this code cell again to get credit!"
      ]
     },
     "metadata": {},
     "output_type": "display_data"
    }
   ],
   "source": [
    "# TODO: Save the police killings dataset to CSV\n",
    "police_killings\n",
    "\n",
    "# Check your answer\n",
    "q3.check()"
   ]
  },
  {
   "cell_type": "code",
   "execution_count": 10,
   "id": "4516979b",
   "metadata": {
    "execution": {
     "iopub.execute_input": "2022-09-14T22:14:35.335755Z",
     "iopub.status.busy": "2022-09-14T22:14:35.334935Z",
     "iopub.status.idle": "2022-09-14T22:14:35.339742Z",
     "shell.execute_reply": "2022-09-14T22:14:35.338859Z"
    },
    "papermill": {
     "duration": 0.014674,
     "end_time": "2022-09-14T22:14:35.342083",
     "exception": false,
     "start_time": "2022-09-14T22:14:35.327409",
     "status": "completed"
    },
    "tags": []
   },
   "outputs": [],
   "source": [
    "# Lines below will give you a hint or solution code\n",
    "#q3.hint()\n",
    "#q3.solution()"
   ]
  },
  {
   "cell_type": "markdown",
   "id": "83786336",
   "metadata": {
    "papermill": {
     "duration": 0.005749,
     "end_time": "2022-09-14T22:14:35.353948",
     "exception": false,
     "start_time": "2022-09-14T22:14:35.348199",
     "status": "completed"
    },
    "tags": []
   },
   "source": [
    "# (Optional) More practice\n",
    "\n",
    "Check out [this dataset of files in different character encodings](https://www.kaggle.com/rtatman/character-encoding-examples). Can you read in all the files with their original encodings and them save them out as UTF-8 files?\n",
    "\n",
    "If you have a file that's in UTF-8 but has just a couple of weird-looking characters in it, you can try out the [ftfy module](https://ftfy.readthedocs.io/en/latest/#) and see if it helps. \n",
    "\n",
    "# Keep going\n",
    "\n",
    "In the final lesson, learn how to [**clean up inconsistent text entries**](https://www.kaggle.com/alexisbcook/inconsistent-data-entry) in your dataset."
   ]
  },
  {
   "cell_type": "markdown",
   "id": "78d88440",
   "metadata": {
    "papermill": {
     "duration": 0.005613,
     "end_time": "2022-09-14T22:14:35.365613",
     "exception": false,
     "start_time": "2022-09-14T22:14:35.360000",
     "status": "completed"
    },
    "tags": []
   },
   "source": [
    "---\n",
    "\n",
    "\n",
    "\n",
    "\n",
    "*Have questions or comments? Visit the [course discussion forum](https://www.kaggle.com/learn/data-cleaning/discussion) to chat with other learners.*"
   ]
  }
 ],
 "metadata": {
  "kernelspec": {
   "display_name": "Python 3",
   "language": "python",
   "name": "python3"
  },
  "language_info": {
   "codemirror_mode": {
    "name": "ipython",
    "version": 3
   },
   "file_extension": ".py",
   "mimetype": "text/x-python",
   "name": "python",
   "nbconvert_exporter": "python",
   "pygments_lexer": "ipython3",
   "version": "3.7.12"
  },
  "papermill": {
   "default_parameters": {},
   "duration": 12.2527,
   "end_time": "2022-09-14T22:14:36.094565",
   "environment_variables": {},
   "exception": null,
   "input_path": "__notebook__.ipynb",
   "output_path": "__notebook__.ipynb",
   "parameters": {},
   "start_time": "2022-09-14T22:14:23.841865",
   "version": "2.3.4"
  }
 },
 "nbformat": 4,
 "nbformat_minor": 5
}
